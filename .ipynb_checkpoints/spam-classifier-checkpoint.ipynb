{
 "cells": [
  {
   "cell_type": "code",
   "execution_count": 1,
   "metadata": {},
   "outputs": [
    {
     "name": "stderr",
     "output_type": "stream",
     "text": [
      "[nltk_data] Downloading package stopwords to\n",
      "[nltk_data]     C:\\Users\\HP\\AppData\\Roaming\\nltk_data...\n",
      "[nltk_data]   Package stopwords is already up-to-date!\n"
     ]
    },
    {
     "data": {
      "text/plain": [
       "True"
      ]
     },
     "execution_count": 1,
     "metadata": {},
     "output_type": "execute_result"
    }
   ],
   "source": [
    "import numpy as np # linear algebra\n",
    "import pandas as pd \n",
    "import re\n",
    "import nltk\n",
    "from nltk.corpus import stopwords\n",
    "from nltk.stem import PorterStemmer\n",
    "import pickle\n",
    "nltk.download('stopwords')\n"
   ]
  },
  {
   "cell_type": "code",
   "execution_count": 2,
   "metadata": {
    "execution": {
     "iopub.execute_input": "2021-08-11T06:06:11.845927Z",
     "iopub.status.busy": "2021-08-11T06:06:11.845487Z",
     "iopub.status.idle": "2021-08-11T06:06:11.877470Z",
     "shell.execute_reply": "2021-08-11T06:06:11.876463Z",
     "shell.execute_reply.started": "2021-08-11T06:06:11.845895Z"
    }
   },
   "outputs": [
    {
     "data": {
      "text/html": [
       "<div>\n",
       "<style scoped>\n",
       "    .dataframe tbody tr th:only-of-type {\n",
       "        vertical-align: middle;\n",
       "    }\n",
       "\n",
       "    .dataframe tbody tr th {\n",
       "        vertical-align: top;\n",
       "    }\n",
       "\n",
       "    .dataframe thead th {\n",
       "        text-align: right;\n",
       "    }\n",
       "</style>\n",
       "<table border=\"1\" class=\"dataframe\">\n",
       "  <thead>\n",
       "    <tr style=\"text-align: right;\">\n",
       "      <th></th>\n",
       "      <th>v1</th>\n",
       "      <th>v2</th>\n",
       "      <th>Unnamed: 2</th>\n",
       "      <th>Unnamed: 3</th>\n",
       "      <th>Unnamed: 4</th>\n",
       "    </tr>\n",
       "  </thead>\n",
       "  <tbody>\n",
       "    <tr>\n",
       "      <th>0</th>\n",
       "      <td>ham</td>\n",
       "      <td>Go until jurong point, crazy.. Available only ...</td>\n",
       "      <td>NaN</td>\n",
       "      <td>NaN</td>\n",
       "      <td>NaN</td>\n",
       "    </tr>\n",
       "    <tr>\n",
       "      <th>1</th>\n",
       "      <td>ham</td>\n",
       "      <td>Ok lar... Joking wif u oni...</td>\n",
       "      <td>NaN</td>\n",
       "      <td>NaN</td>\n",
       "      <td>NaN</td>\n",
       "    </tr>\n",
       "    <tr>\n",
       "      <th>2</th>\n",
       "      <td>spam</td>\n",
       "      <td>Free entry in 2 a wkly comp to win FA Cup fina...</td>\n",
       "      <td>NaN</td>\n",
       "      <td>NaN</td>\n",
       "      <td>NaN</td>\n",
       "    </tr>\n",
       "    <tr>\n",
       "      <th>3</th>\n",
       "      <td>ham</td>\n",
       "      <td>U dun say so early hor... U c already then say...</td>\n",
       "      <td>NaN</td>\n",
       "      <td>NaN</td>\n",
       "      <td>NaN</td>\n",
       "    </tr>\n",
       "    <tr>\n",
       "      <th>4</th>\n",
       "      <td>ham</td>\n",
       "      <td>Nah I don't think he goes to usf, he lives aro...</td>\n",
       "      <td>NaN</td>\n",
       "      <td>NaN</td>\n",
       "      <td>NaN</td>\n",
       "    </tr>\n",
       "  </tbody>\n",
       "</table>\n",
       "</div>"
      ],
      "text/plain": [
       "     v1                                                 v2 Unnamed: 2  \\\n",
       "0   ham  Go until jurong point, crazy.. Available only ...        NaN   \n",
       "1   ham                      Ok lar... Joking wif u oni...        NaN   \n",
       "2  spam  Free entry in 2 a wkly comp to win FA Cup fina...        NaN   \n",
       "3   ham  U dun say so early hor... U c already then say...        NaN   \n",
       "4   ham  Nah I don't think he goes to usf, he lives aro...        NaN   \n",
       "\n",
       "  Unnamed: 3 Unnamed: 4  \n",
       "0        NaN        NaN  \n",
       "1        NaN        NaN  \n",
       "2        NaN        NaN  \n",
       "3        NaN        NaN  \n",
       "4        NaN        NaN  "
      ]
     },
     "execution_count": 2,
     "metadata": {},
     "output_type": "execute_result"
    }
   ],
   "source": [
    "df = pd.read_csv('spam.csv')\n",
    "df.head()"
   ]
  },
  {
   "cell_type": "code",
   "execution_count": 3,
   "metadata": {
    "execution": {
     "iopub.execute_input": "2021-08-11T06:06:11.879275Z",
     "iopub.status.busy": "2021-08-11T06:06:11.878946Z",
     "iopub.status.idle": "2021-08-11T06:06:11.894697Z",
     "shell.execute_reply": "2021-08-11T06:06:11.893624Z",
     "shell.execute_reply.started": "2021-08-11T06:06:11.879244Z"
    }
   },
   "outputs": [
    {
     "name": "stdout",
     "output_type": "stream",
     "text": [
      "<class 'pandas.core.frame.DataFrame'>\n",
      "RangeIndex: 5572 entries, 0 to 5571\n",
      "Data columns (total 5 columns):\n",
      " #   Column      Non-Null Count  Dtype \n",
      "---  ------      --------------  ----- \n",
      " 0   v1          5572 non-null   object\n",
      " 1   v2          5572 non-null   object\n",
      " 2   Unnamed: 2  50 non-null     object\n",
      " 3   Unnamed: 3  12 non-null     object\n",
      " 4   Unnamed: 4  6 non-null      object\n",
      "dtypes: object(5)\n",
      "memory usage: 217.8+ KB\n"
     ]
    }
   ],
   "source": [
    "df.info()"
   ]
  },
  {
   "cell_type": "code",
   "execution_count": 4,
   "metadata": {
    "execution": {
     "iopub.execute_input": "2021-08-11T06:06:11.896591Z",
     "iopub.status.busy": "2021-08-11T06:06:11.896209Z",
     "iopub.status.idle": "2021-08-11T06:06:11.902805Z",
     "shell.execute_reply": "2021-08-11T06:06:11.901877Z",
     "shell.execute_reply.started": "2021-08-11T06:06:11.896557Z"
    }
   },
   "outputs": [
    {
     "data": {
      "text/plain": [
       "Index(['v1', 'v2', 'Unnamed: 2', 'Unnamed: 3', 'Unnamed: 4'], dtype='object')"
      ]
     },
     "execution_count": 4,
     "metadata": {},
     "output_type": "execute_result"
    }
   ],
   "source": [
    "df.columns"
   ]
  },
  {
   "cell_type": "code",
   "execution_count": 5,
   "metadata": {
    "execution": {
     "iopub.execute_input": "2021-08-11T06:06:11.904309Z",
     "iopub.status.busy": "2021-08-11T06:06:11.904003Z",
     "iopub.status.idle": "2021-08-11T06:06:11.917360Z",
     "shell.execute_reply": "2021-08-11T06:06:11.916380Z",
     "shell.execute_reply.started": "2021-08-11T06:06:11.904282Z"
    }
   },
   "outputs": [],
   "source": [
    "df = df.drop(['Unnamed: 2', 'Unnamed: 3', 'Unnamed: 4'], axis=1)"
   ]
  },
  {
   "cell_type": "code",
   "execution_count": 6,
   "metadata": {
    "execution": {
     "iopub.execute_input": "2021-08-11T06:06:11.919439Z",
     "iopub.status.busy": "2021-08-11T06:06:11.918967Z",
     "iopub.status.idle": "2021-08-11T06:06:11.935622Z",
     "shell.execute_reply": "2021-08-11T06:06:11.934615Z",
     "shell.execute_reply.started": "2021-08-11T06:06:11.919407Z"
    }
   },
   "outputs": [
    {
     "data": {
      "text/plain": [
       "ham     4825\n",
       "spam     747\n",
       "Name: v1, dtype: int64"
      ]
     },
     "execution_count": 6,
     "metadata": {},
     "output_type": "execute_result"
    }
   ],
   "source": [
    "df.v1.value_counts()"
   ]
  },
  {
   "cell_type": "code",
   "execution_count": 7,
   "metadata": {
    "execution": {
     "iopub.execute_input": "2021-08-11T06:06:11.937745Z",
     "iopub.status.busy": "2021-08-11T06:06:11.937298Z",
     "iopub.status.idle": "2021-08-11T06:06:11.948866Z",
     "shell.execute_reply": "2021-08-11T06:06:11.947895Z",
     "shell.execute_reply.started": "2021-08-11T06:06:11.937709Z"
    }
   },
   "outputs": [],
   "source": [
    "stop_words = set(stopwords.words('english'))"
   ]
  },
  {
   "cell_type": "code",
   "execution_count": 8,
   "metadata": {
    "execution": {
     "iopub.execute_input": "2021-08-11T06:06:11.950757Z",
     "iopub.status.busy": "2021-08-11T06:06:11.950408Z",
     "iopub.status.idle": "2021-08-11T06:06:13.438372Z",
     "shell.execute_reply": "2021-08-11T06:06:13.437507Z",
     "shell.execute_reply.started": "2021-08-11T06:06:11.950728Z"
    }
   },
   "outputs": [],
   "source": [
    "ps = PorterStemmer()\n",
    "corpus = []\n",
    "for i in range(len(df)):\n",
    "    msg = re.sub('[^a-zA-Z]',' ',df['v2'][i])\n",
    "    msg = msg.lower()\n",
    "    words = msg.split()\n",
    "    words = [ps.stem(word) for word in words if word not in stop_words]\n",
    "    msg = ' '.join(words)\n",
    "    corpus.append(msg)\n",
    "    "
   ]
  },
  {
   "cell_type": "code",
   "execution_count": 9,
   "metadata": {
    "execution": {
     "iopub.execute_input": "2021-08-11T06:06:14.546135Z",
     "iopub.status.busy": "2021-08-11T06:06:14.545509Z",
     "iopub.status.idle": "2021-08-11T06:06:14.735539Z",
     "shell.execute_reply": "2021-08-11T06:06:14.734589Z",
     "shell.execute_reply.started": "2021-08-11T06:06:14.546073Z"
    }
   },
   "outputs": [],
   "source": [
    "# Creating bag of words\n",
    "from sklearn.feature_extraction.text import CountVectorizer, TfidfVectorizer\n",
    "cv = CountVectorizer(max_features=5000)\n",
    "# cv = TfidfVectorizer(max_features=5000)\n",
    "X = cv.fit_transform(corpus).toarray()\n",
    "pickle.dump(cv, open('bag_of_words.pkl', 'wb'))"
   ]
  },
  {
   "cell_type": "code",
   "execution_count": 10,
   "metadata": {
    "execution": {
     "iopub.execute_input": "2021-08-11T06:06:14.739472Z",
     "iopub.status.busy": "2021-08-11T06:06:14.739172Z",
     "iopub.status.idle": "2021-08-11T06:06:14.745612Z",
     "shell.execute_reply": "2021-08-11T06:06:14.744506Z",
     "shell.execute_reply.started": "2021-08-11T06:06:14.739443Z"
    }
   },
   "outputs": [
    {
     "data": {
      "text/plain": [
       "(5572, 5000)"
      ]
     },
     "execution_count": 10,
     "metadata": {},
     "output_type": "execute_result"
    }
   ],
   "source": [
    "X.shape"
   ]
  },
  {
   "cell_type": "code",
   "execution_count": 11,
   "metadata": {
    "execution": {
     "iopub.execute_input": "2021-08-11T06:06:14.748592Z",
     "iopub.status.busy": "2021-08-11T06:06:14.748203Z",
     "iopub.status.idle": "2021-08-11T06:06:14.760611Z",
     "shell.execute_reply": "2021-08-11T06:06:14.759619Z",
     "shell.execute_reply.started": "2021-08-11T06:06:14.748555Z"
    }
   },
   "outputs": [],
   "source": [
    "Y = pd.get_dummies(df['v1'])\n",
    "y = Y.iloc[:,1].values"
   ]
  },
  {
   "cell_type": "code",
   "execution_count": 12,
   "metadata": {
    "execution": {
     "iopub.execute_input": "2021-08-11T06:06:14.763115Z",
     "iopub.status.busy": "2021-08-11T06:06:14.762501Z",
     "iopub.status.idle": "2021-08-11T06:06:14.883440Z",
     "shell.execute_reply": "2021-08-11T06:06:14.882487Z",
     "shell.execute_reply.started": "2021-08-11T06:06:14.763041Z"
    }
   },
   "outputs": [],
   "source": [
    "from sklearn.model_selection import train_test_split\n",
    "x_train, x_test, y_train, y_test = train_test_split(X,y, test_size=.2)"
   ]
  },
  {
   "cell_type": "code",
   "execution_count": 13,
   "metadata": {
    "execution": {
     "iopub.execute_input": "2021-08-11T06:06:14.885290Z",
     "iopub.status.busy": "2021-08-11T06:06:14.884887Z",
     "iopub.status.idle": "2021-08-11T06:06:15.071322Z",
     "shell.execute_reply": "2021-08-11T06:06:15.069936Z",
     "shell.execute_reply.started": "2021-08-11T06:06:14.885251Z"
    }
   },
   "outputs": [],
   "source": [
    "# training model with native bayes\n",
    "from sklearn.naive_bayes import MultinomialNB\n",
    "MNB_model = MultinomialNB().fit(x_train, y_train)\n",
    "predictions = MNB_model.predict(x_test)"
   ]
  },
  {
   "cell_type": "code",
   "execution_count": 14,
   "metadata": {
    "execution": {
     "iopub.execute_input": "2021-08-11T06:06:15.093419Z",
     "iopub.status.busy": "2021-08-11T06:06:15.093008Z",
     "iopub.status.idle": "2021-08-11T06:06:15.108077Z",
     "shell.execute_reply": "2021-08-11T06:06:15.106993Z",
     "shell.execute_reply.started": "2021-08-11T06:06:15.093378Z"
    }
   },
   "outputs": [
    {
     "name": "stdout",
     "output_type": "stream",
     "text": [
      "1.8385650224215246\n",
      "0.016143497757847534\n"
     ]
    }
   ],
   "source": [
    "from sklearn.metrics import mean_absolute_error, mean_squared_error\n",
    "mae = mean_absolute_error(y_test, predictions)\n",
    "print(mae)\n",
    "mse = mean_squared_error(y_test, predictions)\n",
    "print(mse)"
   ]
  },
  {
   "cell_type": "code",
   "execution_count": 15,
   "metadata": {
    "execution": {
     "iopub.execute_input": "2021-08-11T06:06:15.111005Z",
     "iopub.status.busy": "2021-08-11T06:06:15.110600Z",
     "iopub.status.idle": "2021-08-11T06:06:15.120770Z",
     "shell.execute_reply": "2021-08-11T06:06:15.119617Z",
     "shell.execute_reply.started": "2021-08-11T06:06:15.110962Z"
    }
   },
   "outputs": [],
   "source": [
    "# from sklearn.metrics import confusion_matrix, accuracy_score\n",
    "# con = confusion_matrix(y_test, pre_y)\n",
    "# accuracy = accuracy_score(y_test, pre_y)\n",
    "# print(\"Confution Matrix: \",con)\n",
    "# print(\"Accuracy: \",accuracy)\n"
   ]
  },
  {
   "cell_type": "code",
   "execution_count": 16,
   "metadata": {},
   "outputs": [],
   "source": [
    "# Save trained model into disk for deployment\n",
    "pickle.dump(MNB_model,open(\"spam_classifier_model.pkl\",'wb'))"
   ]
  },
  {
   "cell_type": "code",
   "execution_count": null,
   "metadata": {},
   "outputs": [],
   "source": []
  }
 ],
 "metadata": {
  "kernelspec": {
   "display_name": "Python 3",
   "language": "python",
   "name": "python3"
  },
  "language_info": {
   "codemirror_mode": {
    "name": "ipython",
    "version": 3
   },
   "file_extension": ".py",
   "mimetype": "text/x-python",
   "name": "python",
   "nbconvert_exporter": "python",
   "pygments_lexer": "ipython3",
   "version": "3.8.8"
  }
 },
 "nbformat": 4,
 "nbformat_minor": 4
}
